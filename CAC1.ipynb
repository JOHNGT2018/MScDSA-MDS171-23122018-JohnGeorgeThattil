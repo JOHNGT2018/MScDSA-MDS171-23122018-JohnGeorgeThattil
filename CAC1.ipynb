{
 "cells": [
  {
   "cell_type": "code",
   "execution_count": 1,
   "metadata": {},
   "outputs": [
    {
     "name": "stdout",
     "output_type": "stream",
     "text": [
      "Data captured: ['2023-09-18 18:31:42', 29, 28]\n",
      "Data captured: ['2023-09-18 18:31:45', 22, 12]\n",
      "Data captured: ['2023-09-18 18:31:45', 16, 16]\n",
      "Data captured: ['2023-09-18 18:31:46', 13, 44]\n",
      "Data captured: ['2023-09-18 18:31:47', 56, 36]\n",
      "Data captured: ['2023-09-18 18:31:47', 8, 27]\n",
      "Data captured: ['2023-09-18 18:31:47', 33, 14]\n",
      "Data captured: ['2023-09-18 18:31:48', 49, 21]\n",
      "Average Speed: 28.142857142857142 mph\n",
      "Average Number of Vehicles: 24.285714285714285\n"
     ]
    }
   ],
   "source": [
    "import random\n",
    "import csv\n",
    "from datetime import datetime\n",
    "\n",
    "\n",
    "def generate_traffic_data():\n",
    "    timestamp = datetime.now().strftime(\"%Y-%m-%d %H:%M:%S\")\n",
    "    speed = random.randint(0, 60)  \n",
    "    vehicles = random.randint(0, 50)  \n",
    "    return [timestamp, speed, vehicles]\n",
    "\n",
    "\n",
    "def write_data_to_csv(data, file_name):\n",
    "    with open(file_name, mode=\"a\", newline=\"\") as file:\n",
    "        writer = csv.writer(file)\n",
    "        writer.writerow(data)\n",
    "\n",
    "\n",
    "def calculate_average(data):\n",
    "    total_speed = sum(float(row[1]) for row in data)\n",
    "    total_vehicles = sum(float(row[2]) for row in data)\n",
    "    average_speed = total_speed / len(data)\n",
    "    average_vehicles = total_vehicles / len(data)\n",
    "    return average_speed, average_vehicles\n",
    "\n",
    "\n",
    "def analyze_traffic_data(data):\n",
    "    average_speed, average_vehicles = calculate_average(data)\n",
    "    print(\"Average Speed:\", average_speed, \"mph\")\n",
    "    print(\"Average Number of Vehicles:\", average_vehicles)\n",
    "\n",
    "\n",
    "def main():\n",
    "    file_name = \"traffic_data.csv\"\n",
    "    while True:\n",
    "        choice = input(\"Press '1' to generate traffic data, '2' to analyze data, or 'q' to quit: \")\n",
    "        if choice == '1':\n",
    "            traffic_data = generate_traffic_data()\n",
    "            write_data_to_csv(traffic_data, file_name)\n",
    "            print(\"Data captured:\", traffic_data)\n",
    "        elif choice == '2':\n",
    "            try:\n",
    "                with open(file_name, mode=\"r\") as file:\n",
    "                    data = list(csv.reader(file))\n",
    "                    analyze_traffic_data(data[1:])  \n",
    "            except FileNotFoundError:\n",
    "                print(\"No data available.\")\n",
    "        elif choice.lower() == 'q':\n",
    "            break\n",
    "        else:\n",
    "            print(\"Invalid choice. Please try again.\")\n",
    "\n",
    "if __name__ == \"__main__\":\n",
    "    main()"
   ]
  }
 ],
 "metadata": {
  "kernelspec": {
   "display_name": "Python 3",
   "language": "python",
   "name": "python3"
  },
  "language_info": {
   "codemirror_mode": {
    "name": "ipython",
    "version": 3
   },
   "file_extension": ".py",
   "mimetype": "text/x-python",
   "name": "python",
   "nbconvert_exporter": "python",
   "pygments_lexer": "ipython3",
   "version": "3.11.4"
  },
  "orig_nbformat": 4
 },
 "nbformat": 4,
 "nbformat_minor": 2
}
