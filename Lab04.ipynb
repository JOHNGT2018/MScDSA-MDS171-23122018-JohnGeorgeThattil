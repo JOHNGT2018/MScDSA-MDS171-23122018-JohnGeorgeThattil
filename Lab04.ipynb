{
 "cells": [
  {
   "cell_type": "markdown",
   "metadata": {},
   "source": [
    "A Taste of Success: The Restaurant Management System\n",
    "\n",
    "In the heart of the bustling city of Lavasa was a charming little restaurant named \"Culinary Delights.\" Owned by a passionate chef named Chef Amelia, Culinary Delights was renowned for its mouthwatering dishes, warm ambience, and exceptional customer service.\n",
    "\n",
    "Chef Amelia had always dreamed of running her restaurant since she was a child. Her love for cooking led her to culinary school, where she honed her skills and developed her signature recipes. With hard work and determination, she finally opened Culinary Delights, a cosy place where people could savour her culinary creations.\n",
    "\n",
    "As Culinary Delights gained popularity, it faced a significant challenge – managing orders efficiently. Chef Amelia realised that she needed a robust Restaurant Management System (RMS) to maintain the restaurant's reputation.\n",
    "\n",
    "Chef Amelia would like to hire you as a team lead for the talented software developers Mark, Sarah, and David she already has. Together, you will create an advanced RMS that will revolutionise Culinary Delights.\n",
    "\n",
    "The software Chef Amelia is looking for is straightforward and has to store the orders in a file the restaurant gets from its customers.\n",
    "\n",
    "As a data analyst specialist, gather insights from the orders that Your hotel Culinary Delights received from their customer over time and display it to Chef Amelia as she uses your Software Application.\n",
    "\n",
    "Your submission will include the following:\n",
    "Lab 04.ipynb File with proper documentation and results from your program\n",
    "Updated README.md File\n",
    "Moodle Submission will include the file and repository URL"
   ]
  },
  {
   "cell_type": "code",
   "execution_count": 10,
   "metadata": {},
   "outputs": [
    {
     "name": "stdout",
     "output_type": "stream",
     "text": [
      "The total amount obtained in this day =  444\n",
      "The total Guest obtained in this day =  1\n"
     ]
    }
   ],
   "source": [
    "def RMS(name , date , item , rate , Quantity , guestcount):  #Defining the function \n",
    "    file = open(\"RMS.txt\", \"w+\")    #Opening the file\n",
    "    file.write(\"\\nName = \"+name)    #Writing the name into a file\n",
    "    file.write(\"\\nDate = \"+date)    \n",
    "    file.write(\"\\nItem Code = \"+item)\n",
    "    file.write(\"\\nQuantity = \"+str(Qty))\n",
    "    file.write(\"\\nRate = \"+str(price))\n",
    "    file.write(\"\\nGuestCount = \"+guestcount)\n",
    "    file.write(\"\\n-----------------------------------------------------------------------------------------------------------\")\n",
    "    file.close()\n",
    "    return True    #Returning true\n",
    "\n",
    "\n",
    "name = input(\"Enter the Name here: \")\n",
    "date = input(\"Enter the date: \")    #User input\n",
    "item = input(\"Enter the item here: \")\n",
    "init_rate = int(input(\"Enter the rate of the item: \"))\n",
    "Qty = int(input(\"Enter the quantity of the item\"))\n",
    "guestcount = input(\"Enter the Guest Count: \")\n",
    "price=init_rate*Qty #Calculating price\n",
    "RMS(name , date , item , price , Qty, guestcount)\n",
    "\n",
    "\n",
    "\n",
    "#analysis\n",
    "salescount = 0\n",
    "with open(\"RMS.txt\" , \"r+\") as file :\n",
    "    for line in file:\n",
    "        if \"Rate\" in line:\n",
    "            \n",
    "            Rate = int(line.split(\"=\")[1].strip())\n",
    "            salescount += price\n",
    "print(\"The total amount obtained in this day = \" , salescount)\n",
    "    # print(\"The total amount of guests per day: \" , salescount)\n",
    "\n",
    "\n",
    "\n",
    "\n",
    "#analysis\n",
    "salescount = 0\n",
    "with open(\"RMS.txt\" , \"r+\") as file :\n",
    "    for line in file:\n",
    "        if \"GuestCount\" in line:\n",
    "            \n",
    "            Guestcount = int(line.split(\"=\")[1].strip())\n",
    "            salescount += Guestcount\n",
    "print(\"The total Guest obtained in this day = \" , salescount)\n",
    "    # print(\"The total amount of guests per day: \" , salescount)"
   ]
  },
  {
   "cell_type": "code",
   "execution_count": null,
   "metadata": {},
   "outputs": [],
   "source": []
  },
  {
   "cell_type": "code",
   "execution_count": null,
   "metadata": {},
   "outputs": [],
   "source": []
  }
 ],
 "metadata": {
  "kernelspec": {
   "display_name": "Python 3",
   "language": "python",
   "name": "python3"
  },
  "language_info": {
   "codemirror_mode": {
    "name": "ipython",
    "version": 3
   },
   "file_extension": ".py",
   "mimetype": "text/x-python",
   "name": "python",
   "nbconvert_exporter": "python",
   "pygments_lexer": "ipython3",
   "version": "3.11.4"
  },
  "orig_nbformat": 4
 },
 "nbformat": 4,
 "nbformat_minor": 2
}
