{
 "cells": [
  {
   "cell_type": "markdown",
   "metadata": {},
   "source": [
    "Matrix Multiplication\n",
    "\n",
    "Jeeva, a mathematical expert, is looking for an expert in programming who can assist him in creating a Python program for Matrix Multiplication.\n",
    "\n",
    "His program has specific requirements.\n",
    "\n",
    "The matrices have to be saved inside a dictionary.\n",
    "The keys allowed in the dictionary are [matrix 1, matrix 2, result matrix]\n",
    "The values for the elements in the rows of the matrix have to be saved in the form of a list of lists [[row1][row2]].\n",
    "You must have functions for collecting the matrix and store in the dictionary.\n",
    "Another function to Process the matrix and store it in the dictionary. \n",
    "Another function to Display the result in a file, properly formatted.\n",
    "Menu option to show enter matrix 1, matrix 2, calculate, export to file. If the matrix has been entered, then it should take confirmation from the user before taking the input for matrix 1 or 2 again.\n",
    "Create lab 08.py file or .ipynb file, and upload in GitHub."
   ]
  },
  {
   "cell_type": "code",
   "execution_count": null,
   "metadata": {
    "vscode": {
     "languageId": "plaintext"
    }
   },
   "outputs": [],
   "source": []
  }
 ],
 "metadata": {
  "language_info": {
   "name": "python"
  },
  "orig_nbformat": 4
 },
 "nbformat": 4,
 "nbformat_minor": 2
}
