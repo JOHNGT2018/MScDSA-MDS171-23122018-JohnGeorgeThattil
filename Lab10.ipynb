{
 "cells": [
  {
   "cell_type": "code",
   "execution_count": 20,
   "metadata": {},
   "outputs": [],
   "source": [
    "class students:\n",
    "    def _init_(self):\n",
    "        self.students = {}\n",
    "\n",
    "    def addStudents(self,id,Name,Course) :\n",
    "        temp = {\n",
    "            \"name\":Name,\n",
    "            \"course\": Course\n",
    "        }\n",
    "\n",
    "        self.students[id]= temp\n",
    "\n",
    "\n",
    "    def printing(self):\n",
    "        print(self.students)\n",
    "\n",
    "    def search_student(self,id):\n",
    "        if id in self.students:\n",
    "            print(self.students[id])\n",
    "        else:\n",
    "            print(\"not found\")\n",
    "            \n",
    "\n"
   ]
  },
  {
   "cell_type": "code",
   "execution_count": 21,
   "metadata": {},
   "outputs": [
    {
     "ename": "ValueError",
     "evalue": "invalid literal for int() with base 10: 'i'",
     "output_type": "error",
     "traceback": [
      "\u001b[1;31m---------------------------------------------------------------------------\u001b[0m",
      "\u001b[1;31mValueError\u001b[0m                                Traceback (most recent call last)",
      "\u001b[1;32mc:\\Users\\JOHN GEORGE THATTIL\\OneDrive\\Desktop\\MScDSA-MDS171-23122018-JohnGeorgeThattil\\Lab10.ipynb Cell 2\u001b[0m line \u001b[0;36m4\n\u001b[0;32m      <a href='vscode-notebook-cell:/c%3A/Users/JOHN%20GEORGE%20THATTIL/OneDrive/Desktop/MScDSA-MDS171-23122018-JohnGeorgeThattil/Lab10.ipynb#W3sZmlsZQ%3D%3D?line=1'>2</a>\u001b[0m userinput \u001b[39m=\u001b[39m \u001b[39mint\u001b[39m(\u001b[39minput\u001b[39m(\u001b[39m\"\u001b[39m\u001b[39mEnter the No of inputs:\u001b[39m\u001b[39m\"\u001b[39m))\n\u001b[0;32m      <a href='vscode-notebook-cell:/c%3A/Users/JOHN%20GEORGE%20THATTIL/OneDrive/Desktop/MScDSA-MDS171-23122018-JohnGeorgeThattil/Lab10.ipynb#W3sZmlsZQ%3D%3D?line=2'>3</a>\u001b[0m \u001b[39mfor\u001b[39;00m i \u001b[39min\u001b[39;00m \u001b[39mrange\u001b[39m (userinput):\n\u001b[1;32m----> <a href='vscode-notebook-cell:/c%3A/Users/JOHN%20GEORGE%20THATTIL/OneDrive/Desktop/MScDSA-MDS171-23122018-JohnGeorgeThattil/Lab10.ipynb#W3sZmlsZQ%3D%3D?line=3'>4</a>\u001b[0m     \u001b[39mid\u001b[39m \u001b[39m=\u001b[39m \u001b[39mint\u001b[39;49m(\u001b[39minput\u001b[39;49m(\u001b[39m\"\u001b[39;49m\u001b[39mEnter the ID: \u001b[39;49m\u001b[39m\"\u001b[39;49m))\n\u001b[0;32m      <a href='vscode-notebook-cell:/c%3A/Users/JOHN%20GEORGE%20THATTIL/OneDrive/Desktop/MScDSA-MDS171-23122018-JohnGeorgeThattil/Lab10.ipynb#W3sZmlsZQ%3D%3D?line=4'>5</a>\u001b[0m     name \u001b[39m=\u001b[39m \u001b[39minput\u001b[39m(\u001b[39m\"\u001b[39m\u001b[39mEnter the Name: \u001b[39m\u001b[39m\"\u001b[39m)\n\u001b[0;32m      <a href='vscode-notebook-cell:/c%3A/Users/JOHN%20GEORGE%20THATTIL/OneDrive/Desktop/MScDSA-MDS171-23122018-JohnGeorgeThattil/Lab10.ipynb#W3sZmlsZQ%3D%3D?line=5'>6</a>\u001b[0m     course \u001b[39m=\u001b[39m \u001b[39minput\u001b[39m(\u001b[39m\"\u001b[39m\u001b[39mEnter the Course: \u001b[39m\u001b[39m\"\u001b[39m)\n",
      "\u001b[1;31mValueError\u001b[0m: invalid literal for int() with base 10: 'i'"
     ]
    }
   ],
   "source": [
    "haa = students()\n",
    "userinput = int(input(\"Enter the No of inputs:\"))\n",
    "for i in range (userinput):\n",
    "    id = int(input(\"Enter the ID: \"))\n",
    "    name = input(\"Enter the Name: \")\n",
    "    course = input(\"Enter the Course: \")\n",
    "    haa.addStudents(id,name,course)\n",
    "    haa.search_student(3)"
   ]
  },
  {
   "cell_type": "code",
   "execution_count": null,
   "metadata": {},
   "outputs": [],
   "source": []
  },
  {
   "cell_type": "markdown",
   "metadata": {},
   "source": []
  }
 ],
 "metadata": {
  "kernelspec": {
   "display_name": "Python 3",
   "language": "python",
   "name": "python3"
  },
  "language_info": {
   "codemirror_mode": {
    "name": "ipython",
    "version": 3
   },
   "file_extension": ".py",
   "mimetype": "text/x-python",
   "name": "python",
   "nbconvert_exporter": "python",
   "pygments_lexer": "ipython3",
   "version": "3.11.4"
  }
 },
 "nbformat": 4,
 "nbformat_minor": 2
}
