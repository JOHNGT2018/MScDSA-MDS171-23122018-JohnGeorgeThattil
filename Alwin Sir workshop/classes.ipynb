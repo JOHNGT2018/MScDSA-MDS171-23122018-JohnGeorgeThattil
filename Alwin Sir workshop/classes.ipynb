{
 "cells": [
  {
   "cell_type": "code",
   "execution_count": 49,
   "metadata": {},
   "outputs": [],
   "source": [
    "#int,str,float etc are pre defined classes& we have to do user  defined class\n",
    "\n",
    "class students :\n",
    "    def __init__(self):\n",
    "       self.student=[]\n",
    "    \n",
    "    def addStudent(self,name,regno):\n",
    "        self.student.append({\n",
    "            \"Name\":name,\n",
    "            \"RegNo\":regno\n",
    "        })\n",
    "    \n",
    "    def listAllStudent(self):\n",
    "        print(self.student)\n",
    "    \n",
    "\n",
    "    def searchStudent(self,name):\n",
    "        pass\n",
    "\n",
    "    def removestudent(self,name):\n",
    "        pass\n",
    "\n",
    "    def __str__(self):\n",
    "        pass"
   ]
  },
  {
   "cell_type": "code",
   "execution_count": 50,
   "metadata": {},
   "outputs": [],
   "source": [
    "mscdsa = students()"
   ]
  },
  {
   "cell_type": "code",
   "execution_count": 55,
   "metadata": {},
   "outputs": [],
   "source": [
    "mscdsa.addStudent(\"Shruti\",\"1000\")"
   ]
  },
  {
   "cell_type": "code",
   "execution_count": 56,
   "metadata": {},
   "outputs": [
    {
     "name": "stdout",
     "output_type": "stream",
     "text": [
      "[{'Name': 'Shruti', 'RegNo': '1000'}, {'Name': 'Shruti', 'RegNo': '1000'}, {'Name': 'Shruti', 'RegNo': '1000'}, {'Name': 'Shruti', 'RegNo': '1000'}]\n"
     ]
    }
   ],
   "source": [
    "mscdsa.listAllStudent()"
   ]
  },
  {
   "cell_type": "code",
   "execution_count": 57,
   "metadata": {},
   "outputs": [],
   "source": [
    "temp = [{'Name': 'Shruti', 'RegNo': '1000'}, {'Name': 'Shruti', 'RegNo': '1000'}, {'Name': 'Shruti', 'RegNo': '1000'}, {'Name': 'Shruti', 'RegNo': '1000'}]\n"
   ]
  },
  {
   "cell_type": "code",
   "execution_count": 58,
   "metadata": {},
   "outputs": [
    {
     "data": {
      "text/plain": [
       "[{'Name': 'Shruti', 'RegNo': '1000'},\n",
       " {'Name': 'Shruti', 'RegNo': '1000'},\n",
       " {'Name': 'Shruti', 'RegNo': '1000'},\n",
       " {'Name': 'Shruti', 'RegNo': '1000'}]"
      ]
     },
     "execution_count": 58,
     "metadata": {},
     "output_type": "execute_result"
    }
   ],
   "source": [
    "temp"
   ]
  },
  {
   "cell_type": "code",
   "execution_count": 59,
   "metadata": {},
   "outputs": [
    {
     "name": "stdout",
     "output_type": "stream",
     "text": [
      "Shruti\n",
      "Shruti\n",
      "Shruti\n",
      "Shruti\n"
     ]
    }
   ],
   "source": [
    "for item in temp:\n",
    "    print(item['Name'])"
   ]
  },
  {
   "cell_type": "code",
   "execution_count": null,
   "metadata": {},
   "outputs": [],
   "source": []
  }
 ],
 "metadata": {
  "kernelspec": {
   "display_name": "Python 3",
   "language": "python",
   "name": "python3"
  },
  "language_info": {
   "codemirror_mode": {
    "name": "ipython",
    "version": 3
   },
   "file_extension": ".py",
   "mimetype": "text/x-python",
   "name": "python",
   "nbconvert_exporter": "python",
   "pygments_lexer": "ipython3",
   "version": "3.11.4"
  },
  "orig_nbformat": 4
 },
 "nbformat": 4,
 "nbformat_minor": 2
}
