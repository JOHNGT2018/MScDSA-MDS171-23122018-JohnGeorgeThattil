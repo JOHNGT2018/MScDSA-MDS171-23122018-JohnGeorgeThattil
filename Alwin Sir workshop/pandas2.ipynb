{
 "cells": [
  {
   "cell_type": "markdown",
   "metadata": {},
   "source": [
    "Create a class pandas_Name that will help you to read a csv file and print the top/bottom n rowa in the file ?"
   ]
  },
  {
   "cell_type": "code",
   "execution_count": null,
   "metadata": {},
   "outputs": [],
   "source": [
    "#class pandas_Name\n",
    "#       init ()\n",
    "#                stores the data\n",
    "#       read_csv()\n",
    "#                reads a csv file\n",
    "#       head()\n",
    "#                prints the top n rows\n",
    "#       tail()\n",
    "#                to print the bottom n rows\n",
    "\n",
    "\n",
    "\n",
    "import pandas as pd\n",
    "\n",
    "df = pd.read_csv('data.csv')\n",
    "\n",
    "print(df.to_string()) \n"
   ]
  },
  {
   "cell_type": "code",
   "execution_count": null,
   "metadata": {},
   "outputs": [],
   "source": [
    "class readfile():\n",
    "    def __init__(self):\n",
    "        self.filename=\"\"\n",
    "        self.filecontent=\"\"\n",
    "    def read_csv(self,filename):\n",
    "        with open (filename,\"r+\") as file:\n",
    "            self.filename=filename\n",
    "            self.filecontent=file.readlines()\n",
    "    def head(self,num_row):\n",
    "        #tmp=self.filecontent[len(self.filecontent)-num]\n",
    "        for i in range(num_row):\n",
    "            print(self.filecontent[i].strip())\n",
    "\n",
    "    def tail(self,num_row):\n",
    "        start=len(self.filecontent)-(num_row+1)\n",
    "\n",
    "pd=readfile()\n",
    "pd.read_csv(\"sample.txt\")\n",
    "pd.head(\"sample.txt\",5)"
   ]
  },
  {
   "cell_type": "code",
   "execution_count": 109,
   "metadata": {},
   "outputs": [
    {
     "name": "stdout",
     "output_type": "stream",
     "text": [
      "1 mark1\n",
      "2 mark2\n",
      "3 mark3\n",
      "your selection is mark3\n",
      "mean is 24.0\n"
     ]
    }
   ],
   "source": [
    "file=open(\"C:\\\\Users\\\\JOHN GEORGE THATTIL\\\\OneDrive\\\\Desktop\\\\mark1 mark2 mark3.txt\") \n",
    "k=[]\n",
    "count=0\n",
    "j=1\n",
    "for line in file:\n",
    "   # k=file.readline().strip().split()\n",
    "    k.append(line.split())\n",
    "    count+=1\n",
    "#print(count,k)\n",
    "#print(k[2])\n",
    "#print(k[0])\n",
    "choice=input(\"enter your choice\")\n",
    "for i in k[0]:\n",
    "   print(j,i)\n",
    "   j+=1\n",
    "   \n",
    "for i in k[0]:\n",
    "    if i==choice:\n",
    "     print(\"your selection is\",i)\n",
    "j=k[0].index(choice)\n",
    "#print(j)\n",
    "i=1\n",
    "mean=(int(k[1][j])+int(k[2][j])+int(k[3][j]))/(count-1)\n",
    "       \n",
    "print(\"mean is\",mean)\n",
    "\n",
    "    \n"
   ]
  },
  {
   "cell_type": "code",
   "execution_count": null,
   "metadata": {},
   "outputs": [],
   "source": [
    "import os\n",
    "class pandas_thamizh:\n",
    "    def __init__(self):\n",
    "        self.data_Dict={\"dict\":[]}\n",
    "    \n",
    "    def read_CSV(self,fileName):\n",
    "        if os.path.isfile(fileName):\n",
    "            for i in open(fileName,\"r+\").readlines():\n",
    "                line=i.split(\",\")\n",
    "                if line[2]==\"Amount\":\n",
    "                    pass\n",
    "                else:\n",
    "                    sub_Dict={\"age\":line[0],\"expense\":line[1],\"familysize\":line[2].strip()}\n",
    "                    self.data_Dict[\"dict\"].append(sub_Dict)\n",
    "        else:\n",
    "            print(\"File does not exist\")\n",
    "            return False\n",
    "\n",
    "def describe(self,col):\n",
    "        print(col)\n",
    "        num=[]\n",
    "        count=0\n",
    "        sum=0\n",
    "        mode=0\n",
    "        flag1=0\n",
    "        flag2=0\n",
    "        for i in self.data_Dict[\"dict\"]:\n",
    "            if count!=0:\n",
    "                sum+=int(i[col])\n",
    "                num.append(int(i[col]))\n",
    "            count+=1\n",
    "        print(\"Count:\",count-1)\n",
    "        print(\"Mean:\",sum/(count-1))\n",
    "        for i in num:\n",
    "            flag1=0\n",
    "            for j in num:\n",
    "                if i==j:\n",
    "                    flag1+=1\n",
    "            if flag1>flag2:\n",
    "                flag2=flag1\n",
    "                mode=i\n",
    "        print(\"Mode:\",mode)\n",
    "        median=int(len(num)/2)-2\n",
    "        print(\"Median:\",num[median])\n",
    "\n",
    "obj=pandas_thamizh()\n",
    "obj.read_CSV(\"Arithmatic_Calculations.csv\")\n",
    "column=int(input(\"Enter the column name needs to analysed - 1.Age 2.Expense 3.Family Size\"))\n",
    "columnName=[\"age\",\"expense\",\"familysize\"]\n",
    "obj.describe(columnName[column-1])"
   ]
  }
 ],
 "metadata": {
  "kernelspec": {
   "display_name": "Python 3",
   "language": "python",
   "name": "python3"
  },
  "language_info": {
   "codemirror_mode": {
    "name": "ipython",
    "version": 3
   },
   "file_extension": ".py",
   "mimetype": "text/x-python",
   "name": "python",
   "nbconvert_exporter": "python",
   "pygments_lexer": "ipython3",
   "version": "3.11.4"
  }
 },
 "nbformat": 4,
 "nbformat_minor": 2
}
