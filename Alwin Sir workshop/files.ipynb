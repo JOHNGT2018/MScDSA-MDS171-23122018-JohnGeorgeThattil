{
 "cells": [
  {
   "cell_type": "code",
   "execution_count": 1,
   "metadata": {},
   "outputs": [],
   "source": [
    "file = open(\"filename.txt\",\"w\")\n",
    "file.write(\"Hello\")\n",
    "file.close()"
   ]
  },
  {
   "cell_type": "code",
   "execution_count": 26,
   "metadata": {},
   "outputs": [],
   "source": [
    "# with open(\"filenamme.txt\",\"w\") as file:\n",
    "#     file.write(\"hello\\n\")\n",
    "#     file.write(\"hello\\n\")\n",
    "#     file.write(\"hello\\n\")\n",
    "\n",
    "def storeOrder(orderid,itemname,price,qty):\n",
    "    with open(\"filenamme.txt\",\"a\") as file:\n",
    "       order = orderid+\",\"+itemname+\",\"+str(price)+\",\"+str(qty)+\"\\n\"\n",
    "       file.write(order)"
   ]
  },
  {
   "cell_type": "code",
   "execution_count": 29,
   "metadata": {},
   "outputs": [],
   "source": [
    "storeOrder(\"123\",\"IDILI\",12.00,3)  #we have type the items here & run multiple times to get more items"
   ]
  },
  {
   "cell_type": "code",
   "execution_count": 30,
   "metadata": {},
   "outputs": [],
   "source": [
    "filecontent = []\n",
    "with open(\"filenamme.txt\",\"r\") as file:\n",
    "   # file.readline()\n",
    "    filecontent = file.readlines()"
   ]
  },
  {
   "cell_type": "code",
   "execution_count": 31,
   "metadata": {},
   "outputs": [
    {
     "data": {
      "text/plain": [
       "['123,IDILI,12.0,3\\n',\n",
       " '123,IDILI,12.0,3\\n',\n",
       " '123,IDILI,12.0,3\\n',\n",
       " '123,IDILI,12.0,3\\n',\n",
       " '123,IDILI,12.0,3\\n']"
      ]
     },
     "execution_count": 31,
     "metadata": {},
     "output_type": "execute_result"
    }
   ],
   "source": [
    "filecontent"
   ]
  },
  {
   "cell_type": "code",
   "execution_count": 32,
   "metadata": {},
   "outputs": [
    {
     "name": "stdout",
     "output_type": "stream",
     "text": [
      "123,IDILI,12.0,3\n",
      "123,IDILI,12.0,3\n",
      "123,IDILI,12.0,3\n",
      "123,IDILI,12.0,3\n",
      "123,IDILI,12.0,3\n"
     ]
    }
   ],
   "source": [
    "for line in filecontent:\n",
    "    print(line.strip())"
   ]
  },
  {
   "cell_type": "code",
   "execution_count": 33,
   "metadata": {},
   "outputs": [
    {
     "name": "stdout",
     "output_type": "stream",
     "text": [
      "['123', 'IDILI', '12.0', '3\\n']\n",
      "['123', 'IDILI', '12.0', '3\\n']\n",
      "['123', 'IDILI', '12.0', '3\\n']\n",
      "['123', 'IDILI', '12.0', '3\\n']\n",
      "['123', 'IDILI', '12.0', '3\\n']\n"
     ]
    }
   ],
   "source": [
    "for line in filecontent:\n",
    "    print(line.split(\",\"))"
   ]
  }
 ],
 "metadata": {
  "kernelspec": {
   "display_name": "Python 3",
   "language": "python",
   "name": "python3"
  },
  "language_info": {
   "codemirror_mode": {
    "name": "ipython",
    "version": 3
   },
   "file_extension": ".py",
   "mimetype": "text/x-python",
   "name": "python",
   "nbconvert_exporter": "python",
   "pygments_lexer": "ipython3",
   "version": "3.11.4"
  },
  "orig_nbformat": 4
 },
 "nbformat": 4,
 "nbformat_minor": 2
}
