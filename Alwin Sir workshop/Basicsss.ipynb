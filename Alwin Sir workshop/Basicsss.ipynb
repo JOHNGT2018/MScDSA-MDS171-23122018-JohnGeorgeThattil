{
 "cells": [
  {
   "cell_type": "markdown",
   "metadata": {},
   "source": [
    "# Question\n"
   ]
  },
  {
   "cell_type": "code",
   "execution_count": 1,
   "metadata": {},
   "outputs": [
    {
     "name": "stdout",
     "output_type": "stream",
     "text": [
      "t\n",
      "h\n",
      "i\n",
      "s\n",
      " \n",
      "i\n",
      "s\n",
      " \n",
      "a\n",
      " \n",
      "s\n",
      "t\n",
      "r\n",
      "i\n",
      "n\n",
      "g\n"
     ]
    }
   ],
   "source": [
    "for x in \"this is a string\":\n",
    "    print(x)"
   ]
  },
  {
   "cell_type": "code",
   "execution_count": 3,
   "metadata": {},
   "outputs": [
    {
     "name": "stdout",
     "output_type": "stream",
     "text": [
      "0\n",
      "2\n",
      "4\n",
      "6\n",
      "8\n"
     ]
    }
   ],
   "source": [
    "for i in range(0,10,2):\n",
    "    print(i)"
   ]
  },
  {
   "cell_type": "code",
   "execution_count": 4,
   "metadata": {},
   "outputs": [
    {
     "name": "stdout",
     "output_type": "stream",
     "text": [
      "0\n",
      "1\n",
      "2\n",
      "3\n",
      "4\n",
      "5\n",
      "6\n",
      "7\n",
      "8\n",
      "9\n",
      "10\n"
     ]
    }
   ],
   "source": [
    "for i in range(0,11,1):\n",
    "    print(i)"
   ]
  },
  {
   "cell_type": "code",
   "execution_count": 5,
   "metadata": {},
   "outputs": [
    {
     "name": "stdout",
     "output_type": "stream",
     "text": [
      " this is a string  \n",
      " this will go in new line\n"
     ]
    }
   ],
   "source": [
    "msg = \" this is a string  \\n this will go in new line\"\n",
    "print(msg)\n"
   ]
  },
  {
   "cell_type": "code",
   "execution_count": 15,
   "metadata": {},
   "outputs": [
    {
     "name": "stdout",
     "output_type": "stream",
     "text": [
      "item 1\n",
      "item 2\n",
      "10\n",
      "23.11\n",
      "45\n"
     ]
    }
   ],
   "source": [
    "A =[\"item 1\",\"item 2\",10,23.11,45]\n",
    "#type(A) # to know which data type\n",
    "#print(A[::-2]) # 3 represents particular index number, ::-1 to reverse the list, if it is -2 print edavitu numbers, same logic above 2nd one\n",
    "for i in A: # we can use for loop to print list also\n",
    "    print(i)"
   ]
  },
  {
   "cell_type": "code",
   "execution_count": 6,
   "metadata": {},
   "outputs": [
    {
     "data": {
      "text/plain": [
       "'string'"
      ]
     },
     "execution_count": 6,
     "metadata": {},
     "output_type": "execute_result"
    }
   ],
   "source": [
    "a= 'hello this is string'\n",
    "a.split(' ')[3] #-1 or 3 for the specific word or just (' ')"
   ]
  },
  {
   "cell_type": "code",
   "execution_count": 7,
   "metadata": {},
   "outputs": [
    {
     "name": "stdout",
     "output_type": "stream",
     "text": [
      "['hello', 'this', 'is', 'string']\n",
      "['hello', 'this', 'is', 'string']\n"
     ]
    }
   ],
   "source": [
    "a= 'hello this is string'\n",
    "print(a.split(' '))\n",
    "res= a.split(' ') # in order to store the function split\n",
    "print(res)"
   ]
  },
  {
   "cell_type": "code",
   "execution_count": 8,
   "metadata": {},
   "outputs": [
    {
     "name": "stdout",
     "output_type": "stream",
     "text": [
      "ALWIN\n",
      "alwin\n",
      "ALWINJOSEPH\n"
     ]
    }
   ],
   "source": [
    "print(\"alwin\".upper())\n",
    "print(\"ALWIN\".lower())\n",
    "print(\"alwinjoseph\".swapcase())"
   ]
  },
  {
   "cell_type": "code",
   "execution_count": 9,
   "metadata": {},
   "outputs": [
    {
     "name": "stdout",
     "output_type": "stream",
     "text": [
      "i\n",
      "hello\n",
      "iaman\n",
      "iamanotherstring...msg\n"
     ]
    }
   ],
   "source": [
    "msg= \"helloiamanotherstring...msg\"\n",
    "print(msg[5])\n",
    "print(msg[:5])\n",
    "print(msg[5:10])\n",
    "print(msg[5:])"
   ]
  },
  {
   "cell_type": "code",
   "execution_count": 14,
   "metadata": {},
   "outputs": [
    {
     "name": "stdout",
     "output_type": "stream",
     "text": [
      "I am john and i am from cherpu \n"
     ]
    }
   ],
   "source": [
    "name= input(\"enter your name: \")\n",
    "nclass= input(\"where do you belong to:\")\n",
    "\n",
    "print(\"I am {} and i am from {} \".format(name,nclass))"
   ]
  },
  {
   "cell_type": "code",
   "execution_count": 10,
   "metadata": {},
   "outputs": [
    {
     "name": "stdout",
     "output_type": "stream",
     "text": [
      "two is founded\n",
      "['one', 'TWO', 'three', 'four']\n",
      "['one', 'TWO', 'three', 'four', 'five', 'six', 'seven', 'eight']\n",
      "['one', 'TWO', 'three', 'four', 'nine']\n",
      "['TWO', 'three', 'four']\n",
      "['one', 'three', 'four', 'nine']\n",
      "['four', 'nine', 'one', 'three']\n",
      "['three', 'one', 'nine', 'four']\n"
     ]
    }
   ],
   "source": [
    "listex=['one','two','three','four']\n",
    "if 'two' in listex:\n",
    "    print(\"two is founded\")\n",
    "listex[1] = \"TWO\"    #replacing location with new value\n",
    "print(listex) \n",
    "newlist= ['five','six','seven','eight']\n",
    "print(listex+newlist)  # 2 list add aakan or extending the list\n",
    "listex.append(\"nine\")  # use variablename.append to add or extend list\n",
    "print(listex)\n",
    "print(listex[1:4])  # \n",
    "listex.remove('TWO') # to delete or we can use listex.pop\n",
    "print(listex)\n",
    "listex.sort()\n",
    "print(listex)\n",
    "listex.reverse() # reverse values\n",
    "print(listex)"
   ]
  },
  {
   "cell_type": "code",
   "execution_count": 12,
   "metadata": {},
   "outputs": [
    {
     "name": "stdout",
     "output_type": "stream",
     "text": [
      "here we go 1 st function\n"
     ]
    }
   ],
   "source": [
    "def functionname():\n",
    "    print('here we go 1 st function')\n",
    "functionname()    #we have to call function to print\n"
   ]
  },
  {
   "cell_type": "code",
   "execution_count": 25,
   "metadata": {},
   "outputs": [
    {
     "name": "stdout",
     "output_type": "stream",
     "text": [
      "here we go 1 st function john\n"
     ]
    }
   ],
   "source": [
    "def functionname(n):\n",
    "    print(\"here we go 1 st function\",n)\n",
    "\n",
    "name = \"john\"    # to add new variable \n",
    "functionname(name)    "
   ]
  },
  {
   "cell_type": "code",
   "execution_count": 26,
   "metadata": {},
   "outputs": [
    {
     "name": "stdout",
     "output_type": "stream",
     "text": [
      "here we go 1 st function\n",
      "['success', True]\n"
     ]
    }
   ],
   "source": [
    "def functionname():\n",
    "    print(\"here we go 1 st function\",)\n",
    "    return[\"success\",True]\n",
    "name= \"john\"\n",
    "ret= functionname()   \n",
    "print(ret)\n",
    "\n",
    "\n"
   ]
  },
  {
   "cell_type": "markdown",
   "metadata": {},
   "source": [
    "Define a function that takes a list of numbers as input and return the sum of numbers , without any predefined functions ?"
   ]
  },
  {
   "cell_type": "code",
   "execution_count": 1,
   "metadata": {},
   "outputs": [
    {
     "name": "stdout",
     "output_type": "stream",
     "text": [
      "272\n"
     ]
    }
   ],
   "source": [
    "values = [2,10,44,56,77,83]\n",
    "sum = 0\n",
    "for i in values:\n",
    "    sum = sum +i\n",
    "print(sum)    "
   ]
  },
  {
   "cell_type": "code",
   "execution_count": 3,
   "metadata": {},
   "outputs": [
    {
     "name": "stdout",
     "output_type": "stream",
     "text": [
      "45\n"
     ]
    }
   ],
   "source": [
    "values=input()\n",
    "val= values.split(\",\")    # here we have to enter the values manualy, so .split (\",\") gives the values like 1,2,3,4 & output of list gives the list in variable val\n",
    "sum = 0 \n",
    "for i in val:\n",
    "    a=int(i)\n",
    "    sum=sum+a\n",
    "print(sum)    "
   ]
  },
  {
   "cell_type": "code",
   "execution_count": 10,
   "metadata": {},
   "outputs": [
    {
     "name": "stdout",
     "output_type": "stream",
     "text": [
      "<function sumValues at 0x000002AC3EAC9080>\n"
     ]
    }
   ],
   "source": [
    "# using function with entering values\n",
    "\n",
    "def sumValues():\n",
    "    values=input()\n",
    "    val= values.split(\",\")     \n",
    "    sum=0\n",
    "    for i in val:\n",
    "        a=int(i)\n",
    "        sum=sum+a\n",
    "    return sum    \n",
    "print(sumValues)  "
   ]
  },
  {
   "cell_type": "markdown",
   "metadata": {},
   "source": [
    "count the number odd and even numbers in the list and print the odd numbers count and even numbers count along with the numbers (you will have a function that will take a list of numbers, then returns the count of odd numbers and even numbers and the new list of odd numbers and even   numbers )?"
   ]
  },
  {
   "cell_type": "code",
   "execution_count": null,
   "metadata": {},
   "outputs": [],
   "source": []
  }
 ],
 "metadata": {
  "kernelspec": {
   "display_name": "Python 3",
   "language": "python",
   "name": "python3"
  },
  "language_info": {
   "codemirror_mode": {
    "name": "ipython",
    "version": 3
   },
   "file_extension": ".py",
   "mimetype": "text/x-python",
   "name": "python",
   "nbconvert_exporter": "python",
   "pygments_lexer": "ipython3",
   "version": "3.11.4"
  },
  "orig_nbformat": 4
 },
 "nbformat": 4,
 "nbformat_minor": 2
}
