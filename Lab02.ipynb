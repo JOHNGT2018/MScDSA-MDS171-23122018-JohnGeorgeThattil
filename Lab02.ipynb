{
 "cells": [
  {
   "cell_type": "code",
   "execution_count": 10,
   "metadata": {},
   "outputs": [],
   "source": [
    "Mainlist=[]"
   ]
  },
  {
   "cell_type": "code",
   "execution_count": 16,
   "metadata": {},
   "outputs": [],
   "source": [
    "#orgnal\n",
    "def MainFunction():\n",
    "    Entries = input(\"Enter the Name\")    #Asking the userinput from User, Cheking wheather the entry is \"q\" or not. If so print the list and the entry wont be printed \n",
    "    if Entries ==\"q\" :\n",
    "            print(\"Not accepted\")\n",
    "            return Mainlist\n",
    "   \n",
    "        \n",
    "        \n",
    "    if Entries in Mainlist:     #If there is a name coming more than once, the program says the name exists.\n",
    "        print(\"The Name Already Exists\")\n",
    "        \n",
    "    else:\n",
    "        #Validation, Alex makes a lot of mistakes; your program also has to do the necessary validations.\n",
    "        validating=Entries.isalpha()\n",
    "        if validating==True:\n",
    "            Mainlist.append(Entries)\n",
    "        else:\n",
    "            print(\"Enter Correct \")\n",
    "    # Analyzation by checking which name is greates and smallest\n",
    "    for i in Mainlist:\n",
    "         smallest = min(Mainlist)\n",
    "         largest = max(Mainlist)\n",
    "    print(\"The Analysis for Smallest is {} and the Largest is {}\".format(smallest,largest))"
   ]
  },
  {
   "cell_type": "code",
   "execution_count": 19,
   "metadata": {},
   "outputs": [
    {
     "name": "stdout",
     "output_type": "stream",
     "text": [
      "The Analysis for Smallest is Bye and the Largest is HelloWorld\n"
     ]
    }
   ],
   "source": [
    "MainFunction()"
   ]
  },
  {
   "cell_type": "code",
   "execution_count": 20,
   "metadata": {},
   "outputs": [
    {
     "name": "stdout",
     "output_type": "stream",
     "text": [
      "['HelloWorld', 'Hello', 'Bye']\n"
     ]
    }
   ],
   "source": [
    "print(Mainlist)"
   ]
  },
  {
   "cell_type": "markdown",
   "metadata": {},
   "source": [
    "Lab02\n",
    "\n",
    "The Name Collector's Quest\n",
    "\n",
    "In a quaint little village named Harmonyville, there lived a curious individual named Alex. Alex was known for his passion for collecting names. His dream was to create an extensive list of unique names that would reflect the diversity and camaraderie of the village. Alex used to sit in the village junction; as the villagers passed, Alex eagerly approached them and asked for their names. With each encounter, they diligently recorded the names in his notepad.\n",
    "\n",
    "To keep things organized, You were one among the villagers and have decided to create a program to assist them in this endeavour. You asked Alex to begin by defining a list on his laptop instead of his notepad, and you started writing functions to add names.\n",
    "\n",
    "The function that you have defined should do\n",
    "\n",
    "Whenever a new name is encountered, record it.\n",
    "If an existing name comes, the program says the name exists.\n",
    "Alex makes a lot of mistakes; your program also has to do the necessary validations.\n",
    "The function quits when q is entered as a name and prints all the names in the list, and then he has to call the function.\n",
    "As a data analyst of the village, analyse the names in the list.\n",
    "Days turned into weeks and weeks into months. Alex's name collection grew beyond their wildest dreams. The villagers admired their dedication and the beautifully organized list they had created. Alex's program became a legend in Harmonyville, passed down from generation to generation.\n",
    "\n",
    "And so, in the heart of the village, Alex's legacy lived on - a story of names, community, and the power of coding to bring dreams to life.\n",
    "\n",
    "Note:\n",
    "File name ‘Lab 02.ipynb’\n",
    "Update README.md file with the question and link to the file.\n",
    "Note the mistakes Alex will make, find solutions for them, and implement them in the program.\n",
    "Explain the analysis that you are planning to do and the results.\n",
    "Concepts to be used: List, Pre Defined Functions, User Defined Functions"
   ]
  }
 ],
 "metadata": {
  "kernelspec": {
   "display_name": "Python 3",
   "language": "python",
   "name": "python3"
  },
  "language_info": {
   "codemirror_mode": {
    "name": "ipython",
    "version": 3
   },
   "file_extension": ".py",
   "mimetype": "text/x-python",
   "name": "python",
   "nbconvert_exporter": "python",
   "pygments_lexer": "ipython3",
   "version": "3.11.4"
  },
  "orig_nbformat": 4
 },
 "nbformat": 4,
 "nbformat_minor": 2
}
