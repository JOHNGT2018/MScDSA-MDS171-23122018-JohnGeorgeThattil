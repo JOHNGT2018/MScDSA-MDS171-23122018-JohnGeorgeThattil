{
 "cells": [
  {
   "cell_type": "markdown",
   "metadata": {},
   "source": [
    "Mix & Match Calculator\n",
    "\n",
    "Create Lists for [Item, Quantity, Price] with 10 random values of your choice.\n",
    "The item list can be of any category of your choice [Food Items, Grocery Items,...] or anything you choose that can be bought.\n",
    "\n",
    "Prepare a CSV file with combinations of these values with the help of random index & looping statements and other control structures we discussed in class.\n",
    "\n",
    "To get a random index or number to access items from the list, you can use the following:\n",
    "random is a library in Python that can be used to generate random numbers.\n",
    "\n",
    "import random # Importing the external library\n",
    "r1 = random.randint(0, 10) # Generating the random number from the range and store it in r1 variable\n",
    "\n",
    "More details of the Random library usage can be found here.\n",
    "\n",
    "Your CSV file should have a minimum of 100 rows created randomly with the data in the list and the random library.\n",
    "Each row in the CSV file will have (item, Quantity, and UnitPrice).\n",
    "\n",
    "After preparing the CSV with Python code, you need to compute\n",
    "The total cost for each row, display the result from the first 5 rows and the last 10 rows\n",
    "Calculate the total cost for each unique item in the dataset.\n",
    "Item Name | Total Quantity | Total\n",
    "Print the minimum & maximum price for each item sold                           "
   ]
  },
  {
   "cell_type": "code",
   "execution_count": 1,
   "metadata": {},
   "outputs": [],
   "source": [
    "import random #importing random library\n",
    "item=[\"grapes\",\"rice\",\"Juice\",\"ice cream\",\"shake\",\"lays\",\"butter\",\"mionise\",\"coffee\",\"tea\"]\n",
    "quantity=[\"10\",\"2\",\"12\",\"6\",\"7\",\"9\",\"16\",\"3\",\"1\",\"5\"]\n",
    "price=[\"40\",\"28\",\"50\",\"70\",\"110\",\"10\",\"50\",\"15\",\"20\",\"10\"]\n",
    "\n",
    "file = open(\"23122018.csv\",\"w+\")\n",
    "for i in range(100):\n",
    "    r1=random.randint(0,9)\n",
    "    r2=random.randint(0,9)\n",
    "    r3=random.randint(0,9)\n",
    "    intqty=int(quantity[r2])\n",
    "    intprc=int(price[r3])\n",
    "    total=intqty*intprc\n",
    "    file.write(item[r1]+\",\"+quantity[r2]+\",\"+price[r3]+\"\\t Total = \"+str(total)+\"\\n\")\n",
    "file.close()"
   ]
  },
  {
   "cell_type": "code",
   "execution_count": null,
   "metadata": {},
   "outputs": [],
   "source": []
  }
 ],
 "metadata": {
  "kernelspec": {
   "display_name": "Python 3",
   "language": "python",
   "name": "python3"
  },
  "language_info": {
   "codemirror_mode": {
    "name": "ipython",
    "version": 3
   },
   "file_extension": ".py",
   "mimetype": "text/x-python",
   "name": "python",
   "nbconvert_exporter": "python",
   "pygments_lexer": "ipython3",
   "version": "3.11.4"
  },
  "orig_nbformat": 4
 },
 "nbformat": 4,
 "nbformat_minor": 2
}
